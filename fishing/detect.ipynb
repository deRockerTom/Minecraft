{
 "cells": [
  {
   "cell_type": "code",
   "execution_count": 68,
   "metadata": {},
   "outputs": [],
   "source": [
    "%matplotlib inline\n",
    "import numpy as np\n",
    "import cv2\n",
    "from matplotlib import pyplot as plt\n",
    "import math"
   ]
  },
  {
   "cell_type": "code",
   "execution_count": 69,
   "metadata": {},
   "outputs": [],
   "source": [
    "image_path = 'aquarium_screenshot.png'\n",
    "# image_path = 'validation\\\\fish\\\\fish70.png'\n",
    "image_path = 'validation\\\\not_fish\\\\not_fish95.png'\n",
    "image = cv2.imread(image_path)\n",
    "rgb = cv2.cvtColor(image, cv2.COLOR_BGR2RGB)\n",
    "\n",
    "# Preprocess the image (convert to grayscale and apply edge detection)\n",
    "gray = cv2.cvtColor(image, cv2.COLOR_BGR2GRAY)\n",
    "blurred = cv2.GaussianBlur(gray, (5, 5), 0)\n",
    "edges = cv2.Canny(blurred, 50, 150)\n",
    "\n",
    "# Detect triangles in the image\n",
    "contours, _ = cv2.findContours(edges, cv2.RETR_TREE, cv2.CHAIN_APPROX_SIMPLE)\n",
    "triangles = []"
   ]
  },
  {
   "cell_type": "code",
   "execution_count": 70,
   "metadata": {},
   "outputs": [
    {
     "name": "stdout",
     "output_type": "stream",
     "text": [
      "Detected 2 triangles.\n",
      "lines_fishing_rod: [[[1084   60 1195   60]]\n",
      "\n",
      " [[ 444   60  555   60]]\n",
      "\n",
      " [[1305   60 1363   61]]]\n",
      "len(lines_fishing_rod): 3\n"
     ]
    },
    {
     "data": {
      "image/png": "[encoded data removed]",
      "text/plain": [
       "<Figure size 1000x1000 with 1 Axes>"
      ]
     },
     "metadata": {},
     "output_type": "display_data"
    }
   ],
   "source": [
    "hsv = cv2.cvtColor(image, cv2.COLOR_BGR2HSV)\n",
    "\n",
    "# Define the color range for detecting yellow triangles (adjust as needed)\n",
    "lower_yellow = np.array([20, 100, 100])\n",
    "upper_yellow = np.array([30, 255, 255])\n",
    "\n",
    "# Create a mask for the yellow color\n",
    "mask = cv2.inRange(hsv, lower_yellow, upper_yellow)\n",
    "\n",
    "# Find contours in the masked image\n",
    "contours, _ = cv2.findContours(mask, cv2.RETR_TREE, cv2.CHAIN_APPROX_SIMPLE)\n",
    "\n",
    "# Filter and detect triangles\n",
    "triangles = []\n",
    "for contour in contours:\n",
    "    epsilon = 0.05 * cv2.arcLength(contour, True)  # Adjusted epsilon for better approximation\n",
    "    approx = cv2.approxPolyDP(contour, epsilon, True)\n",
    "    if len(approx) == 3:\n",
    "        triangles.append(approx)\n",
    "\n",
    "# Draw triangles on the image\n",
    "image_with_triangles = rgb.copy()\n",
    "cv2.drawContours(image_with_triangles, triangles, -1, (0, 255, 0), 2)\n",
    "\n",
    "# Check if triangles were detected\n",
    "if not triangles:\n",
    "    print(\"No triangles detected.\")\n",
    "else:\n",
    "    print(f\"Detected {len(triangles)} triangles.\")\n",
    "\n",
    "\n",
    "\n",
    "# Create a mask for the fishing rod color\n",
    "mask_fishing_rod = cv2.inRange(hsv, lower_yellow, upper_yellow)\n",
    "\n",
    "# Apply edge detection on the fishing rod mask\n",
    "edges_fishing_rod = cv2.Canny(mask_fishing_rod, 50, 150)\n",
    "\n",
    "# Use Hough Line Transform to detect strait lines in the masked image\n",
    "lines_fishing_rod = cv2.HoughLinesP(edges_fishing_rod, 1, np.pi / 180, 50, minLineLength=10, maxLineGap=10)\n",
    "\n",
    "print(f\"lines_fishing_rod: {lines_fishing_rod}\")\n",
    "print(f\"len(lines_fishing_rod): {len(lines_fishing_rod)}\")\n",
    "\n",
    "if lines_fishing_rod is not None:\n",
    "    for line in lines_fishing_rod:\n",
    "        x1, y1, x2, y2 = line[0]\n",
    "\n",
    "\n",
    "# Detect the shortest line in the image, which is the fishing rod\n",
    "if lines_fishing_rod is not None:\n",
    "    fishing_rod = min(lines_fishing_rod, key=lambda line: math.sqrt((line[0][0] - line[0][2])**2 + (line[0][1] - line[0][3])**2))[0]\n",
    "    # fishing_rod = min(lines_fishing_rod, key=lambda line: max(line[0][1], line[0][3]))[0]\n",
    "    x1, y1, x2, y2 = fishing_rod\n",
    "    cv2.line(image_with_triangles, (x1, y1), (x2, y2), (255, 0, 0), 50)\n",
    "\n",
    "    # Show the image with detected fishing rod\n",
    "    plt.figure(figsize=(10, 10))\n",
    "    plt.imshow(image_with_triangles)\n",
    "    plt.title('Detected Fishing Rod')\n",
    "    plt.axis('off')\n",
    "    plt.show()\n",
    "\n"
   ]
  },
  {
   "cell_type": "code",
   "execution_count": 71,
   "metadata": {},
   "outputs": [
    {
     "name": "stdout",
     "output_type": "stream",
     "text": [
      "distance: 250.0\n",
      "distance: 139.0\n",
      "distance: 187.0\n",
      "distance: 890.0\n",
      "distance: 779.0\n",
      "distance: 827.0\n",
      "Minimum distance between the fishing rod and the closest triangle: 139.0\n"
     ]
    }
   ],
   "source": [
    "if lines_fishing_rod is not None and triangles:\n",
    "    x1, _, x2, _ = fishing_rod\n",
    "    min_distance = float('inf')\n",
    "    for triangle in triangles:\n",
    "        for point in triangle:\n",
    "            x0, _ = point[0]\n",
    "            distance = abs((x1 + x2) / 2 - x0)\n",
    "            # distance = point_line_distance(x1, y1, x2, y2, x0, y0)\n",
    "            print(f'distance: {distance}')\n",
    "            if distance < min_distance:\n",
    "                min_distance = distance\n",
    "    print(f'Minimum distance between the fishing rod and the closest triangle: {min_distance}')\n",
    "else:\n",
    "    print('Could not detect either triangles or the fishing rod properly.')"
   ]
  },
  {
   "cell_type": "code",
   "execution_count": null,
   "metadata": {},
   "outputs": [],
   "source": []
  }
 ],
 "metadata": {
  "kernelspec": {
   "display_name": "Python 3",
   "language": "python",
   "name": "python3"
  },
  "language_info": {
   "codemirror_mode": {
    "name": "ipython",
    "version": 3
   },
   "file_extension": ".py",
   "mimetype": "text/x-python",
   "name": "python",
   "nbconvert_exporter": "python",
   "pygments_lexer": "ipython3",
   "version": "3.10.6"
  }
 },
 "nbformat": 4,
 "nbformat_minor": 2
}
